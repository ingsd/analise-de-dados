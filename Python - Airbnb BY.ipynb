{
  "nbformat": 4,
  "nbformat_minor": 0,
  "metadata": {
    "colab": {
      "name": "Atividade1.ipynb",
      "provenance": [],
      "collapsed_sections": []
    },
    "kernelspec": {
      "name": "python3",
      "display_name": "Python 3"
    }
  },
  "cells": [
    {
      "cell_type": "markdown",
      "metadata": {
        "id": "uZ5SFvLtOmjF",
        "colab_type": "text"
      },
      "source": [
        "![alt text](https://i2.wp.com/deeplearningbook.com.br/wp-content/uploads/2020/04/colab.png?resize=299%2C147)"
      ]
    },
    {
      "cell_type": "code",
      "metadata": {
        "id": "HZTIDpB2ttiS",
        "colab_type": "code",
        "colab": {}
      },
      "source": [
        "#import das bibliotecas\n",
        "import pandas as pd\n",
        "import io"
      ],
      "execution_count": 0,
      "outputs": []
    },
    {
      "cell_type": "code",
      "metadata": {
        "id": "kFL9Ja01sBQU",
        "colab_type": "code",
        "colab": {}
      },
      "source": [
        "#upload do arquivo dados.csv\n",
        "from google.colab import files\n",
        "uploaded = files.upload()"
      ],
      "execution_count": 0,
      "outputs": []
    },
    {
      "cell_type": "markdown",
      "metadata": {
        "id": "GTzYb6JxQnm3",
        "colab_type": "text"
      },
      "source": [
        "![alt text](https://europa2u.com/wp-content/uploads/2019/08/Airbnb_logo-cover-1140x570.jpg)"
      ]
    },
    {
      "cell_type": "markdown",
      "metadata": {
        "id": "YzPpb7I9SA0E",
        "colab_type": "text"
      },
      "source": [
        "**Airbnb** permite aos indivíduos alugar o todo ou parte de sua própria casa, como uma forma de acomodação extra. O site fornece uma plataforma de busca e reservas entre a pessoa que oferece a acomodação e o turista que busca pela locação. Abrange mais de 500 mil anúncios em mais de 35.000 cidades e 192 países. Desde sua criação em Novembro de 2008 até Junho de 2012, mais de 10 milhões de reservas foram agendadas via Airbnb.\n",
        "\n"
      ]
    },
    {
      "cell_type": "code",
      "metadata": {
        "id": "e1HSdduKsQnm",
        "colab_type": "code",
        "colab": {}
      },
      "source": [
        "#usando o read_csv, vamos criar o Dataframe usando o arquivo csv\n",
        "df = pd.read_csv(io.BytesIO(uploaded['AB_NYC_2019.csv']))"
      ],
      "execution_count": 0,
      "outputs": []
    },
    {
      "cell_type": "code",
      "metadata": {
        "id": "_BZZ3Qe_shJ1",
        "colab_type": "code",
        "colab": {}
      },
      "source": [
        "#listar as 5 primeiras linhas do Dataframe\n",
        "df.head(3)"
      ],
      "execution_count": 0,
      "outputs": []
    },
    {
      "cell_type": "markdown",
      "metadata": {
        "id": "5p6dHbA0oWmW",
        "colab_type": "text"
      },
      "source": [
        "![alt text](https://t3.ftcdn.net/jpg/03/23/28/74/240_F_323287409_0o6D5ZyiELu1NZvHXWlQc23ljeF95U0v.jpg)"
      ]
    },
    {
      "cell_type": "markdown",
      "metadata": {
        "id": "PZsRGXV8RJsT",
        "colab_type": "text"
      },
      "source": [
        "Dicionário de Dados:\n",
        "1.   **id** :     id do registro, nº sequencial\n",
        "2.   **name** :   nome do anúncio no app\n",
        "3.   **host** :   id do anunciante\n",
        "4.   **host_name** : nome do anunciante\n",
        "5.   **neighbourhood_group** : cidade \n",
        "6.   **neighbourhood** : bairro\n",
        "7.   **latitude** : latitude do local\n",
        "8.   **longitude** : longitude do local \n",
        "9.   **room_type** : tipode espaço (sala provada / casa / apto inteiro)\n",
        "10.   **price** : preço (em US$)\n",
        "11.   **minimum_nights** : mínimo nº de noites para ficar\n",
        "12.   **number_of_reviews**: nº de visualizações do anúncio no APP\n",
        "13.   **last_review** : data da última visualização\n",
        "14.   **reviews_per_month** : visualizações do anúncio por mês\n",
        "15.   **calculated_host_listings_count** : número total de listagens por um anunciante\n",
        "16.   **availability_365** : disponibilidade no útimo ano (em dias), quanto maior o valor menos o imóvel/espaço esteve ocupado\n",
        "\n",
        "\n",
        "\n",
        "\n",
        "\n",
        "\n"
      ]
    }
  ]
}